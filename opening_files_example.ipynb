{
 "cells": [
  {
   "cell_type": "code",
   "execution_count": 13,
   "id": "d44b9f7a",
   "metadata": {},
   "outputs": [],
   "source": [
    "import os\n",
    "import numpy as np\n",
    "import pandas as pd\n",
    "import gzip, h5py\n",
    "import pickle\n",
    "import glob"
   ]
  },
  {
   "cell_type": "code",
   "execution_count": 1,
   "id": "45257984",
   "metadata": {},
   "outputs": [],
   "source": [
    "example_filename = '/n/holystore01/LABS/iaifi_lab/Lab/hbinney/ssm_files/Project8Sims_noNoise_dataMode_100k/Project8Sims_Row38_I_Q_noNoise_dataMode_5_6.pkl.gz'"
   ]
  },
  {
   "cell_type": "code",
   "execution_count": 3,
   "id": "992665b2",
   "metadata": {},
   "outputs": [
    {
     "data": {
      "text/html": [
       "<div>\n",
       "<style scoped>\n",
       "    .dataframe tbody tr th:only-of-type {\n",
       "        vertical-align: middle;\n",
       "    }\n",
       "\n",
       "    .dataframe tbody tr th {\n",
       "        vertical-align: top;\n",
       "    }\n",
       "\n",
       "    .dataframe thead th {\n",
       "        text-align: right;\n",
       "    }\n",
       "</style>\n",
       "<table border=\"1\" class=\"dataframe\">\n",
       "  <thead>\n",
       "    <tr style=\"text-align: right;\">\n",
       "      <th></th>\n",
       "      <th>energy_eV</th>\n",
       "      <th>pitch_angle_deg</th>\n",
       "      <th>start_carrier_frequency_Hz</th>\n",
       "      <th>avg_carrier_frequency_Hz</th>\n",
       "      <th>avg_axial_frequency_Hz</th>\n",
       "      <th>slope_Hz</th>\n",
       "      <th>radius_m</th>\n",
       "      <th>radius_phase</th>\n",
       "      <th>output_ts_I</th>\n",
       "      <th>output_ts_Q</th>\n",
       "    </tr>\n",
       "  </thead>\n",
       "  <tbody>\n",
       "    <tr>\n",
       "      <th>0</th>\n",
       "      <td>18596.234039</td>\n",
       "      <td>89.306699</td>\n",
       "      <td>2.590332e+10</td>\n",
       "      <td>2.590332e+10</td>\n",
       "      <td>4.439479e+06</td>\n",
       "      <td>3.571128e+08</td>\n",
       "      <td>0.002376</td>\n",
       "      <td>2.751532</td>\n",
       "      <td>[7.843137254901975e-05, 0.002274509803921569, ...</td>\n",
       "      <td>[7.843137254901975e-05, 0.0013333333333333322,...</td>\n",
       "    </tr>\n",
       "    <tr>\n",
       "      <th>1</th>\n",
       "      <td>18606.205344</td>\n",
       "      <td>89.192219</td>\n",
       "      <td>2.590273e+10</td>\n",
       "      <td>2.590273e+10</td>\n",
       "      <td>3.460143e+06</td>\n",
       "      <td>3.450138e+08</td>\n",
       "      <td>0.000437</td>\n",
       "      <td>2.386679</td>\n",
       "      <td>[7.843137254901975e-05, 0.0018039215686274507,...</td>\n",
       "      <td>[7.843137254901975e-05, 0.0011764705882352927,...</td>\n",
       "    </tr>\n",
       "    <tr>\n",
       "      <th>2</th>\n",
       "      <td>18692.952468</td>\n",
       "      <td>89.616905</td>\n",
       "      <td>2.590112e+10</td>\n",
       "      <td>2.590112e+10</td>\n",
       "      <td>1.835019e+06</td>\n",
       "      <td>3.854467e+08</td>\n",
       "      <td>0.001094</td>\n",
       "      <td>2.793499</td>\n",
       "      <td>[7.843137254901975e-05, 0.002588235294117648, ...</td>\n",
       "      <td>[7.843137254901975e-05, 0.0011764705882352927,...</td>\n",
       "    </tr>\n",
       "    <tr>\n",
       "      <th>3</th>\n",
       "      <td>18553.931071</td>\n",
       "      <td>89.738824</td>\n",
       "      <td>2.590375e+10</td>\n",
       "      <td>2.590375e+10</td>\n",
       "      <td>2.808667e+06</td>\n",
       "      <td>4.868447e+08</td>\n",
       "      <td>0.002779</td>\n",
       "      <td>2.533106</td>\n",
       "      <td>[7.843137254901975e-05, 0.0057254901960784275,...</td>\n",
       "      <td>[7.843137254901975e-05, 0.004, -0.004, -0.0112...</td>\n",
       "    </tr>\n",
       "    <tr>\n",
       "      <th>4</th>\n",
       "      <td>18513.081539</td>\n",
       "      <td>89.348122</td>\n",
       "      <td>2.590686e+10</td>\n",
       "      <td>2.590686e+10</td>\n",
       "      <td>4.626022e+06</td>\n",
       "      <td>4.530118e+08</td>\n",
       "      <td>0.004179</td>\n",
       "      <td>1.322241</td>\n",
       "      <td>[7.843137254901975e-05, 0.005098039215686273, ...</td>\n",
       "      <td>[7.843137254901975e-05, 0.0038431372549019606,...</td>\n",
       "    </tr>\n",
       "  </tbody>\n",
       "</table>\n",
       "</div>"
      ],
      "text/plain": [
       "      energy_eV  pitch_angle_deg  start_carrier_frequency_Hz  \\\n",
       "0  18596.234039        89.306699                2.590332e+10   \n",
       "1  18606.205344        89.192219                2.590273e+10   \n",
       "2  18692.952468        89.616905                2.590112e+10   \n",
       "3  18553.931071        89.738824                2.590375e+10   \n",
       "4  18513.081539        89.348122                2.590686e+10   \n",
       "\n",
       "   avg_carrier_frequency_Hz  avg_axial_frequency_Hz      slope_Hz  radius_m  \\\n",
       "0              2.590332e+10            4.439479e+06  3.571128e+08  0.002376   \n",
       "1              2.590273e+10            3.460143e+06  3.450138e+08  0.000437   \n",
       "2              2.590112e+10            1.835019e+06  3.854467e+08  0.001094   \n",
       "3              2.590375e+10            2.808667e+06  4.868447e+08  0.002779   \n",
       "4              2.590686e+10            4.626022e+06  4.530118e+08  0.004179   \n",
       "\n",
       "   radius_phase                                        output_ts_I  \\\n",
       "0      2.751532  [7.843137254901975e-05, 0.002274509803921569, ...   \n",
       "1      2.386679  [7.843137254901975e-05, 0.0018039215686274507,...   \n",
       "2      2.793499  [7.843137254901975e-05, 0.002588235294117648, ...   \n",
       "3      2.533106  [7.843137254901975e-05, 0.0057254901960784275,...   \n",
       "4      1.322241  [7.843137254901975e-05, 0.005098039215686273, ...   \n",
       "\n",
       "                                         output_ts_Q  \n",
       "0  [7.843137254901975e-05, 0.0013333333333333322,...  \n",
       "1  [7.843137254901975e-05, 0.0011764705882352927,...  \n",
       "2  [7.843137254901975e-05, 0.0011764705882352927,...  \n",
       "3  [7.843137254901975e-05, 0.004, -0.004, -0.0112...  \n",
       "4  [7.843137254901975e-05, 0.0038431372549019606,...  "
      ]
     },
     "execution_count": 3,
     "metadata": {},
     "output_type": "execute_result"
    }
   ],
   "source": [
    "with gzip.open(example_filename, 'rb') as f:\n",
    "    data = pickle.load(f)\n",
    "\n",
    "data.head()"
   ]
  },
  {
   "cell_type": "code",
   "execution_count": 4,
   "id": "cf789e5f",
   "metadata": {},
   "outputs": [],
   "source": [
    "data.to_parquet('test.parquet')"
   ]
  },
  {
   "cell_type": "code",
   "execution_count": 5,
   "id": "98de9ac8",
   "metadata": {},
   "outputs": [],
   "source": [
    "# To load:\n",
    "df = pd.read_parquet('test.parquet')"
   ]
  },
  {
   "cell_type": "code",
   "execution_count": 31,
   "id": "0b130174",
   "metadata": {},
   "outputs": [
    {
     "name": "stdout",
     "output_type": "stream",
     "text": [
      "Saved all rows for each column as a single dataset in /n/holystore01/LABS/iaifi_lab/Lab/kyoon/project8/combined_data.hdf5\n"
     ]
    }
   ],
   "source": [
    "file_list = glob.glob('/n/holystore01/LABS/iaifi_lab/Lab/hbinney/ssm_files/Project8Sims_noNoise_dataMode_100k/*.pkl.gz')\n",
    "hdf5_path = '/n/holystore01/LABS/iaifi_lab/Lab/kyoon/project8/combined_data.hdf5'\n",
    "\n",
    "if os.path.exists(hdf5_path):\n",
    "    os.remove(hdf5_path)\n",
    "\n",
    "# --- First pass: get columns, shapes, and total rows ---\n",
    "with gzip.open(file_list[0], 'rb') as f:\n",
    "    df = pickle.load(f)\n",
    "columns = df.columns\n",
    "shapes = {}\n",
    "for col in columns:\n",
    "    arr = df[col].to_numpy()\n",
    "    if isinstance(arr[0], (list, tuple, np.ndarray)):\n",
    "        arr0 = np.stack(arr)\n",
    "        shapes[col] = arr0.shape[1:]\n",
    "    else:\n",
    "        shapes[col] = ()\n",
    "\n",
    "total_rows = 0\n",
    "for fname in file_list:\n",
    "    with gzip.open(fname, 'rb') as f:\n",
    "        df = pickle.load(f)\n",
    "    total_rows += len(df)\n",
    "\n",
    "# --- Second pass: create datasets and fill them ---\n",
    "with h5py.File(hdf5_path, 'w') as h5f:\n",
    "    dsets = {}\n",
    "    for col in columns:\n",
    "        shape = (total_rows,) + shapes[col]\n",
    "        dsets[col] = h5f.create_dataset(col, shape=shape, dtype=np.float32)\n",
    "    row_idx = 0\n",
    "    for fname in file_list:\n",
    "        with gzip.open(fname, 'rb') as f:\n",
    "            df = pickle.load(f)\n",
    "        rows = len(df)\n",
    "        for col in columns:\n",
    "            arr = df[col].to_numpy()\n",
    "            if isinstance(arr[0], (list, tuple, np.ndarray)):\n",
    "                arr = np.stack(arr).astype(np.float32)\n",
    "            else:\n",
    "                arr = arr.astype(np.float32)\n",
    "            dsets[col][row_idx:row_idx+rows] = arr\n",
    "        row_idx += rows\n",
    "\n",
    "print(f'Saved all rows for each column as a single dataset in {hdf5_path}')"
   ]
  },
  {
   "cell_type": "code",
   "execution_count": 36,
   "id": "df1850aa",
   "metadata": {},
   "outputs": [
    {
     "name": "stdout",
     "output_type": "stream",
     "text": [
      "<KeysViewHDF5 ['avg_axial_frequency_Hz', 'avg_carrier_frequency_Hz', 'energy_eV', 'output_ts_I', 'output_ts_Q', 'pitch_angle_deg', 'radius_m', 'radius_phase', 'slope_Hz', 'start_carrier_frequency_Hz']>\n",
      "4751968.0\n",
      "<class 'numpy.ndarray'>\n"
     ]
    }
   ],
   "source": [
    "with h5py.File(hdf5_path, 'r') as f:\n",
    "    print(f.keys())\n",
    "    print(f['avg_axial_frequency_Hz'][0])\n",
    "    arr = f['output_ts_I'][0]\n",
    "    print(type(arr))"
   ]
  },
  {
   "cell_type": "code",
   "execution_count": null,
   "id": "714c8290",
   "metadata": {},
   "outputs": [],
   "source": []
  }
 ],
 "metadata": {
  "kernelspec": {
   "display_name": "ssm",
   "language": "python",
   "name": "python3"
  },
  "language_info": {
   "codemirror_mode": {
    "name": "ipython",
    "version": 3
   },
   "file_extension": ".py",
   "mimetype": "text/x-python",
   "name": "python",
   "nbconvert_exporter": "python",
   "pygments_lexer": "ipython3",
   "version": "3.10.14"
  }
 },
 "nbformat": 4,
 "nbformat_minor": 5
}
